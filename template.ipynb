{
 "cells": [
  {
   "cell_type": "code",
   "execution_count": null,
   "metadata": {},
   "outputs": [],
   "source": [
    "# Set Project Root Directory\n",
    "import os\n",
    "\n",
    "current_dir = os.getcwd()\n",
    "root_marker = \"common\"\n",
    "while current_dir != os.path.dirname(current_dir):\n",
    "    if root_marker in os.listdir(current_dir):\n",
    "        break\n",
    "    current_dir = os.path.dirname(current_dir)\n",
    "\n",
    "project_root = current_dir\n",
    "if os.getcwd() != project_root:\n",
    "    %cd {project_root};"
   ]
  },
  {
   "cell_type": "code",
   "execution_count": null,
   "metadata": {},
   "outputs": [],
   "source": [
    "%load_ext autoreload\n",
    "%autoreload 2"
   ]
  }
 ],
 "metadata": {
  "language_info": {
   "name": "python"
  }
 },
 "nbformat": 4,
 "nbformat_minor": 2
}
