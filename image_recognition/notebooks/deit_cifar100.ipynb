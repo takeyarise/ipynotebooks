{
 "cells": [
  {
   "cell_type": "markdown",
   "metadata": {},
   "source": [
    "# DeiT + CIFAR100"
   ]
  },
  {
   "cell_type": "code",
   "execution_count": 1,
   "metadata": {},
   "outputs": [],
   "source": [
    "# Set Project Root Directory\n",
    "import os\n",
    "\n",
    "current_dir = os.getcwd()\n",
    "root_marker = \"common\"\n",
    "while current_dir != os.path.dirname(current_dir):\n",
    "    if root_marker in os.listdir(current_dir):\n",
    "        break\n",
    "    current_dir = os.path.dirname(current_dir)\n",
    "\n",
    "project_root = current_dir\n",
    "if os.getcwd() != project_root:\n",
    "    %cd {project_root};"
   ]
  },
  {
   "cell_type": "code",
   "execution_count": 2,
   "metadata": {},
   "outputs": [],
   "source": [
    "%load_ext autoreload\n",
    "%autoreload 2\n",
    "from pathlib import Path\n",
    "from collections import defaultdict\n",
    "import torch\n",
    "import torch.nn as nn\n",
    "import torch.optim as optim\n",
    "import torchvision.transforms.v2 as transforms\n",
    "import torchvision.datasets as datasets\n",
    "from torch.utils.data import DataLoader\n",
    "from torchvision.models import resnet18\n",
    "from timm.models import deit\n",
    "from timm.optim import Lookahead\n",
    "import lightning as L\n",
    "from tqdm.auto import tqdm\n",
    "import matplotlib.pyplot as plt\n",
    "from torchinfo import summary\n",
    "\n",
    "from common.optim.ranger import Ranger\n",
    "from common.optim.sam import SAM, bypass_running_stats\n",
    "from common.utils.training import evaluate\n",
    "from common.loss.acls import ACLS"
   ]
  },
  {
   "cell_type": "code",
   "execution_count": 3,
   "metadata": {},
   "outputs": [],
   "source": [
    "names = list()\n",
    "results = defaultdict(dict)"
   ]
  },
  {
   "cell_type": "markdown",
   "metadata": {},
   "source": [
    "## Architecture"
   ]
  },
  {
   "cell_type": "code",
   "execution_count": 10,
   "metadata": {},
   "outputs": [
    {
     "data": {
      "text/plain": [
       "==========================================================================================\n",
       "Layer (type:depth-idx)                   Output Shape              Param #\n",
       "==========================================================================================\n",
       "VisionTransformer                        [1, 100]                  12,672\n",
       "├─PatchEmbed: 1-1                        [1, 64, 192]              --\n",
       "│    └─Conv2d: 2-1                       [1, 192, 8, 8]            9,408\n",
       "│    └─Identity: 2-2                     [1, 64, 192]              --\n",
       "├─Dropout: 1-2                           [1, 65, 192]              --\n",
       "├─Identity: 1-3                          [1, 65, 192]              --\n",
       "├─Identity: 1-4                          [1, 65, 192]              --\n",
       "├─Sequential: 1-5                        [1, 65, 192]              --\n",
       "│    └─Block: 2-3                        [1, 65, 192]              --\n",
       "│    │    └─LayerNorm: 3-1               [1, 65, 192]              384\n",
       "│    │    └─Attention: 3-2               [1, 65, 192]              148,224\n",
       "│    │    └─Identity: 3-3                [1, 65, 192]              --\n",
       "│    │    └─Identity: 3-4                [1, 65, 192]              --\n",
       "│    │    └─LayerNorm: 3-5               [1, 65, 192]              384\n",
       "│    │    └─Mlp: 3-6                     [1, 65, 192]              295,872\n",
       "│    │    └─Identity: 3-7                [1, 65, 192]              --\n",
       "│    │    └─Identity: 3-8                [1, 65, 192]              --\n",
       "│    └─Block: 2-4                        [1, 65, 192]              --\n",
       "│    │    └─LayerNorm: 3-9               [1, 65, 192]              384\n",
       "│    │    └─Attention: 3-10              [1, 65, 192]              148,224\n",
       "│    │    └─Identity: 3-11               [1, 65, 192]              --\n",
       "│    │    └─Identity: 3-12               [1, 65, 192]              --\n",
       "│    │    └─LayerNorm: 3-13              [1, 65, 192]              384\n",
       "│    │    └─Mlp: 3-14                    [1, 65, 192]              295,872\n",
       "│    │    └─Identity: 3-15               [1, 65, 192]              --\n",
       "│    │    └─Identity: 3-16               [1, 65, 192]              --\n",
       "│    └─Block: 2-5                        [1, 65, 192]              --\n",
       "│    │    └─LayerNorm: 3-17              [1, 65, 192]              384\n",
       "│    │    └─Attention: 3-18              [1, 65, 192]              148,224\n",
       "│    │    └─Identity: 3-19               [1, 65, 192]              --\n",
       "│    │    └─Identity: 3-20               [1, 65, 192]              --\n",
       "│    │    └─LayerNorm: 3-21              [1, 65, 192]              384\n",
       "│    │    └─Mlp: 3-22                    [1, 65, 192]              295,872\n",
       "│    │    └─Identity: 3-23               [1, 65, 192]              --\n",
       "│    │    └─Identity: 3-24               [1, 65, 192]              --\n",
       "│    └─Block: 2-6                        [1, 65, 192]              --\n",
       "│    │    └─LayerNorm: 3-25              [1, 65, 192]              384\n",
       "│    │    └─Attention: 3-26              [1, 65, 192]              148,224\n",
       "│    │    └─Identity: 3-27               [1, 65, 192]              --\n",
       "│    │    └─Identity: 3-28               [1, 65, 192]              --\n",
       "│    │    └─LayerNorm: 3-29              [1, 65, 192]              384\n",
       "│    │    └─Mlp: 3-30                    [1, 65, 192]              295,872\n",
       "│    │    └─Identity: 3-31               [1, 65, 192]              --\n",
       "│    │    └─Identity: 3-32               [1, 65, 192]              --\n",
       "│    └─Block: 2-7                        [1, 65, 192]              --\n",
       "│    │    └─LayerNorm: 3-33              [1, 65, 192]              384\n",
       "│    │    └─Attention: 3-34              [1, 65, 192]              148,224\n",
       "│    │    └─Identity: 3-35               [1, 65, 192]              --\n",
       "│    │    └─Identity: 3-36               [1, 65, 192]              --\n",
       "│    │    └─LayerNorm: 3-37              [1, 65, 192]              384\n",
       "│    │    └─Mlp: 3-38                    [1, 65, 192]              295,872\n",
       "│    │    └─Identity: 3-39               [1, 65, 192]              --\n",
       "│    │    └─Identity: 3-40               [1, 65, 192]              --\n",
       "│    └─Block: 2-8                        [1, 65, 192]              --\n",
       "│    │    └─LayerNorm: 3-41              [1, 65, 192]              384\n",
       "│    │    └─Attention: 3-42              [1, 65, 192]              148,224\n",
       "│    │    └─Identity: 3-43               [1, 65, 192]              --\n",
       "│    │    └─Identity: 3-44               [1, 65, 192]              --\n",
       "│    │    └─LayerNorm: 3-45              [1, 65, 192]              384\n",
       "│    │    └─Mlp: 3-46                    [1, 65, 192]              295,872\n",
       "│    │    └─Identity: 3-47               [1, 65, 192]              --\n",
       "│    │    └─Identity: 3-48               [1, 65, 192]              --\n",
       "│    └─Block: 2-9                        [1, 65, 192]              --\n",
       "│    │    └─LayerNorm: 3-49              [1, 65, 192]              384\n",
       "│    │    └─Attention: 3-50              [1, 65, 192]              148,224\n",
       "│    │    └─Identity: 3-51               [1, 65, 192]              --\n",
       "│    │    └─Identity: 3-52               [1, 65, 192]              --\n",
       "│    │    └─LayerNorm: 3-53              [1, 65, 192]              384\n",
       "│    │    └─Mlp: 3-54                    [1, 65, 192]              295,872\n",
       "│    │    └─Identity: 3-55               [1, 65, 192]              --\n",
       "│    │    └─Identity: 3-56               [1, 65, 192]              --\n",
       "│    └─Block: 2-10                       [1, 65, 192]              --\n",
       "│    │    └─LayerNorm: 3-57              [1, 65, 192]              384\n",
       "│    │    └─Attention: 3-58              [1, 65, 192]              148,224\n",
       "│    │    └─Identity: 3-59               [1, 65, 192]              --\n",
       "│    │    └─Identity: 3-60               [1, 65, 192]              --\n",
       "│    │    └─LayerNorm: 3-61              [1, 65, 192]              384\n",
       "│    │    └─Mlp: 3-62                    [1, 65, 192]              295,872\n",
       "│    │    └─Identity: 3-63               [1, 65, 192]              --\n",
       "│    │    └─Identity: 3-64               [1, 65, 192]              --\n",
       "│    └─Block: 2-11                       [1, 65, 192]              --\n",
       "│    │    └─LayerNorm: 3-65              [1, 65, 192]              384\n",
       "│    │    └─Attention: 3-66              [1, 65, 192]              148,224\n",
       "│    │    └─Identity: 3-67               [1, 65, 192]              --\n",
       "│    │    └─Identity: 3-68               [1, 65, 192]              --\n",
       "│    │    └─LayerNorm: 3-69              [1, 65, 192]              384\n",
       "│    │    └─Mlp: 3-70                    [1, 65, 192]              295,872\n",
       "│    │    └─Identity: 3-71               [1, 65, 192]              --\n",
       "│    │    └─Identity: 3-72               [1, 65, 192]              --\n",
       "│    └─Block: 2-12                       [1, 65, 192]              --\n",
       "│    │    └─LayerNorm: 3-73              [1, 65, 192]              384\n",
       "│    │    └─Attention: 3-74              [1, 65, 192]              148,224\n",
       "│    │    └─Identity: 3-75               [1, 65, 192]              --\n",
       "│    │    └─Identity: 3-76               [1, 65, 192]              --\n",
       "│    │    └─LayerNorm: 3-77              [1, 65, 192]              384\n",
       "│    │    └─Mlp: 3-78                    [1, 65, 192]              295,872\n",
       "│    │    └─Identity: 3-79               [1, 65, 192]              --\n",
       "│    │    └─Identity: 3-80               [1, 65, 192]              --\n",
       "│    └─Block: 2-13                       [1, 65, 192]              --\n",
       "│    │    └─LayerNorm: 3-81              [1, 65, 192]              384\n",
       "│    │    └─Attention: 3-82              [1, 65, 192]              148,224\n",
       "│    │    └─Identity: 3-83               [1, 65, 192]              --\n",
       "│    │    └─Identity: 3-84               [1, 65, 192]              --\n",
       "│    │    └─LayerNorm: 3-85              [1, 65, 192]              384\n",
       "│    │    └─Mlp: 3-86                    [1, 65, 192]              295,872\n",
       "│    │    └─Identity: 3-87               [1, 65, 192]              --\n",
       "│    │    └─Identity: 3-88               [1, 65, 192]              --\n",
       "│    └─Block: 2-14                       [1, 65, 192]              --\n",
       "│    │    └─LayerNorm: 3-89              [1, 65, 192]              384\n",
       "│    │    └─Attention: 3-90              [1, 65, 192]              148,224\n",
       "│    │    └─Identity: 3-91               [1, 65, 192]              --\n",
       "│    │    └─Identity: 3-92               [1, 65, 192]              --\n",
       "│    │    └─LayerNorm: 3-93              [1, 65, 192]              384\n",
       "│    │    └─Mlp: 3-94                    [1, 65, 192]              295,872\n",
       "│    │    └─Identity: 3-95               [1, 65, 192]              --\n",
       "│    │    └─Identity: 3-96               [1, 65, 192]              --\n",
       "├─LayerNorm: 1-6                         [1, 65, 192]              384\n",
       "├─Identity: 1-7                          [1, 192]                  --\n",
       "├─Dropout: 1-8                           [1, 192]                  --\n",
       "├─Linear: 1-9                            [1, 100]                  19,300\n",
       "==========================================================================================\n",
       "Total params: 5,380,132\n",
       "Trainable params: 5,380,132\n",
       "Non-trainable params: 0\n",
       "Total mult-adds (Units.MEGABYTES): 5.96\n",
       "==========================================================================================\n",
       "Input size (MB): 0.01\n",
       "Forward/backward pass size (MB): 13.38\n",
       "Params size (MB): 21.47\n",
       "Estimated Total Size (MB): 34.86\n",
       "=========================================================================================="
      ]
     },
     "execution_count": 10,
     "metadata": {},
     "output_type": "execute_result"
    }
   ],
   "source": [
    "summary(deit.deit_tiny_patch16_224(num_classes=100, img_size=(32, 32), patch_size=(4, 4)), (1, 3, 32, 32))"
   ]
  },
  {
   "cell_type": "markdown",
   "metadata": {},
   "source": [
    "## Train"
   ]
  },
  {
   "cell_type": "markdown",
   "metadata": {},
   "source": [
    "### RA + L, OCLR, LS"
   ]
  },
  {
   "cell_type": "code",
   "execution_count": 11,
   "metadata": {},
   "outputs": [],
   "source": [
    "def train_cifar100_deit_tiny_ra_l_oclr_ls(fabric):\n",
    "    L.seed_everything(seed=0xcafe, workers=True, verbose=True)\n",
    "    batch_size = 32\n",
    "    epochs = 200\n",
    "    print_interval = 10\n",
    "\n",
    "    train_transform = transforms.Compose([\n",
    "        transforms.ToImage(),\n",
    "        transforms.RandomResizedCrop(size=32, antialias=True),\n",
    "        transforms.RandomHorizontalFlip(),\n",
    "        transforms.ToDtype(torch.float32, scale=True),\n",
    "        transforms.Normalize((0.5071, 0.4867, 0.4408), (0.2675, 0.2565, 0.2761)),\n",
    "    ])\n",
    "    train_ds = datasets.CIFAR100(\n",
    "        root='./image_recognition/data',\n",
    "        train=True,\n",
    "        transform=train_transform,\n",
    "        download=True,\n",
    "    )\n",
    "    train_loader = DataLoader(\n",
    "        train_ds,\n",
    "        batch_size=batch_size,\n",
    "        shuffle=True,\n",
    "        num_workers=4,\n",
    "        pin_memory=True,\n",
    "        drop_last=False,\n",
    "        persistent_workers=True,\n",
    "    )\n",
    "\n",
    "    n_data = len(train_ds)\n",
    "\n",
    "    net = deit.deit_tiny_patch16_224(\n",
    "        num_classes=100,\n",
    "        img_size=(32, 32),\n",
    "        patch_size=(4, 4),\n",
    "    )\n",
    "    base_optimizer = optim.RAdam(\n",
    "        params=net.parameters(),\n",
    "        lr=1e-4,\n",
    "        weight_decay=5e-4,\n",
    "        decoupled_weight_decay=True,\n",
    "        foreach=True,\n",
    "    )\n",
    "    optimizer = Lookahead(\n",
    "        base_optimizer,\n",
    "        alpha=0.5,\n",
    "        k=6,\n",
    "    )\n",
    "    scheduler = optim.lr_scheduler.OneCycleLR(\n",
    "        optimizer=optimizer,\n",
    "        max_lr=1e-3,\n",
    "        steps_per_epoch=len(train_loader),\n",
    "        epochs=epochs,\n",
    "    )\n",
    "    criterion = nn.CrossEntropyLoss(label_smoothing=0.1)\n",
    "\n",
    "    model = torch.compile(net, mode='reduce-overhead')\n",
    "    model, optimizer = fabric.setup(model, optimizer)\n",
    "    loader = fabric.setup_dataloaders(train_loader)\n",
    "\n",
    "    model.train()\n",
    "    logs = defaultdict(list)\n",
    "    for epoch in tqdm(range(epochs)):\n",
    "        total_loss = 0\n",
    "        for x, y in loader:\n",
    "            optimizer.zero_grad()\n",
    "            out = model(x)\n",
    "            loss = criterion(out, y)\n",
    "            fabric.backward(loss)\n",
    "            optimizer.step()\n",
    "            scheduler.step()\n",
    "\n",
    "            total_loss += loss.item() * len(x)\n",
    "\n",
    "        total_loss = total_loss / n_data\n",
    "        logs['loss'].append(total_loss)\n",
    "\n",
    "        if epoch == 0 or (epoch + 1) % print_interval == 0:\n",
    "            print(f\"EPOCH: {epoch + 1}/{epochs}, LOSS: {total_loss:.5f}\")\n",
    "\n",
    "    torch.save(net.to('cpu').state_dict(), './image_recognition/weights/CIFAR100_DEIT_TINY_RA_L_OCLR_LS.pth')\n",
    "    return dict(logs)"
   ]
  },
  {
   "cell_type": "code",
   "execution_count": 12,
   "metadata": {},
   "outputs": [
    {
     "name": "stderr",
     "output_type": "stream",
     "text": [
      "Using bfloat16 Automatic Mixed Precision (AMP)\n",
      "You are using a CUDA device ('NVIDIA GeForce RTX 3090') that has Tensor Cores. To properly utilize them, you should set `torch.set_float32_matmul_precision('medium' | 'high')` which will trade-off precision for performance. For more details, read https://pytorch.org/docs/stable/generated/torch.set_float32_matmul_precision.html#torch.set_float32_matmul_precision\n",
      "Seed set to 51966\n"
     ]
    },
    {
     "name": "stdout",
     "output_type": "stream",
     "text": [
      "Files already downloaded and verified\n"
     ]
    },
    {
     "data": {
      "application/vnd.jupyter.widget-view+json": {
       "model_id": "ffe596b948f3493ba470b10a7caa9e5d",
       "version_major": 2,
       "version_minor": 0
      },
      "text/plain": [
       "  0%|          | 0/200 [00:00<?, ?it/s]"
      ]
     },
     "metadata": {},
     "output_type": "display_data"
    },
    {
     "name": "stderr",
     "output_type": "stream",
     "text": [
      "W1011 10:55:17.152000 140455940327232 torch/fx/experimental/symbolic_shapes.py:4449] [0/1] ps1 is not in var_ranges, defaulting to unknown range.\n",
      "W1011 10:55:18.853000 140455940327232 torch/fx/experimental/symbolic_shapes.py:4449] [0/1] ps1 is not in var_ranges, defaulting to unknown range.\n"
     ]
    },
    {
     "name": "stdout",
     "output_type": "stream",
     "text": [
      "EPOCH: 1/200, LOSS: 4.35256\n",
      "EPOCH: 10/200, LOSS: 3.32435\n",
      "EPOCH: 20/200, LOSS: 2.88906\n",
      "EPOCH: 30/200, LOSS: 2.54611\n",
      "EPOCH: 40/200, LOSS: 2.22828\n",
      "EPOCH: 50/200, LOSS: 1.95240\n",
      "EPOCH: 60/200, LOSS: 1.72701\n",
      "EPOCH: 70/200, LOSS: 1.54929\n",
      "EPOCH: 80/200, LOSS: 1.43441\n",
      "EPOCH: 90/200, LOSS: 1.33232\n",
      "EPOCH: 100/200, LOSS: 1.25911\n",
      "EPOCH: 110/200, LOSS: 1.20714\n",
      "EPOCH: 120/200, LOSS: 1.15170\n",
      "EPOCH: 130/200, LOSS: 1.11554\n",
      "EPOCH: 140/200, LOSS: 1.07273\n",
      "EPOCH: 150/200, LOSS: 1.04279\n",
      "EPOCH: 160/200, LOSS: 1.01347\n",
      "EPOCH: 170/200, LOSS: 0.98418\n",
      "EPOCH: 180/200, LOSS: 0.97317\n",
      "EPOCH: 190/200, LOSS: 0.96284\n",
      "EPOCH: 200/200, LOSS: 0.96064\n"
     ]
    },
    {
     "name": "stderr",
     "output_type": "stream",
     "text": [
      "/tmp/ipykernel_2655/3389566901.py:16: UserWarning: No artists with labels found to put in legend.  Note that artists whose label start with an underscore are ignored when legend() is called with no argument.\n",
      "  fig.legend()\n"
     ]
    },
    {
     "data": {
      "image/png": "[encoded data removed]",
      "text/plain": [
       "<Figure size 300x200 with 1 Axes>"
      ]
     },
     "metadata": {},
     "output_type": "display_data"
    }
   ],
   "source": [
    "fabric = L.Fabric(\n",
    "    accelerator='cuda',\n",
    "    devices=[0],\n",
    "    precision='bf16-mixed',\n",
    ")\n",
    "name = 'CIFAR100_DEIT_TINY_RA_L_OCLR_LS'\n",
    "results[name] = fabric.launch(train_cifar100_deit_tiny_ra_l_oclr_ls)\n",
    "names.append(name)\n",
    "\n",
    "fig, ax = plt.subplots(nrows=1, ncols=1, figsize=(3, 2))\n",
    "ax.plot(results[name]['loss'])\n",
    "ax.grid()\n",
    "ax.set_ylim((0.0, 4.0))\n",
    "ax.set_xlim((0, 200))\n",
    "fig.tight_layout()\n",
    "fig.legend()\n",
    "plt.show()"
   ]
  },
  {
   "cell_type": "markdown",
   "metadata": {},
   "source": [
    "### RA + L, OCLR, LS, FT"
   ]
  },
  {
   "cell_type": "code",
   "execution_count": 8,
   "metadata": {},
   "outputs": [],
   "source": [
    "def train_cifar100_deit_tiny_ra_l_oclr_ls_ft(fabric):\n",
    "    L.seed_everything(seed=0xcafe, workers=True, verbose=True)\n",
    "    batch_size = 32\n",
    "    epochs = 200\n",
    "    print_interval = 10\n",
    "\n",
    "    train_transform = transforms.Compose([\n",
    "        transforms.ToImage(),\n",
    "        transforms.RandomResizedCrop(size=32, antialias=True),\n",
    "        transforms.RandomHorizontalFlip(),\n",
    "        transforms.ToDtype(torch.float32, scale=True),\n",
    "        transforms.Normalize((0.5071, 0.4867, 0.4408), (0.2675, 0.2565, 0.2761)),\n",
    "    ])\n",
    "    train_ds = datasets.CIFAR100(\n",
    "        root='./image_recognition/data',\n",
    "        train=True,\n",
    "        transform=train_transform,\n",
    "        download=True,\n",
    "    )\n",
    "    train_loader = DataLoader(\n",
    "        train_ds,\n",
    "        batch_size=batch_size,\n",
    "        shuffle=True,\n",
    "        num_workers=4,\n",
    "        pin_memory=True,\n",
    "        drop_last=False,\n",
    "        persistent_workers=True,\n",
    "    )\n",
    "\n",
    "    n_data = len(train_ds)\n",
    "\n",
    "    net = deit.deit_tiny_patch16_224(\n",
    "        pretrained=True,\n",
    "        num_classes=100,\n",
    "        img_size=(32, 32),\n",
    "        patch_size=(4, 4),\n",
    "    )\n",
    "    base_optimizer = optim.RAdam(\n",
    "        params=net.parameters(),\n",
    "        lr=1e-4,\n",
    "        weight_decay=5e-4,\n",
    "        decoupled_weight_decay=True,\n",
    "        foreach=True,\n",
    "    )\n",
    "    optimizer = Lookahead(\n",
    "        base_optimizer,\n",
    "        alpha=0.5,\n",
    "        k=6,\n",
    "    )\n",
    "    scheduler = optim.lr_scheduler.OneCycleLR(\n",
    "        optimizer=optimizer,\n",
    "        max_lr=1e-3,\n",
    "        steps_per_epoch=len(train_loader),\n",
    "        epochs=epochs,\n",
    "    )\n",
    "    criterion = nn.CrossEntropyLoss(label_smoothing=0.1)\n",
    "\n",
    "    model = torch.compile(net, mode='reduce-overhead')\n",
    "    model, optimizer = fabric.setup(model, optimizer)\n",
    "    loader = fabric.setup_dataloaders(train_loader)\n",
    "\n",
    "    model.train()\n",
    "    logs = defaultdict(list)\n",
    "    for epoch in tqdm(range(epochs)):\n",
    "        total_loss = 0\n",
    "        for x, y in loader:\n",
    "            optimizer.zero_grad()\n",
    "            out = model(x)\n",
    "            loss = criterion(out, y)\n",
    "            fabric.backward(loss)\n",
    "            optimizer.step()\n",
    "            scheduler.step()\n",
    "\n",
    "            total_loss += loss.item() * len(x)\n",
    "\n",
    "        total_loss = total_loss / n_data\n",
    "        logs['loss'].append(total_loss)\n",
    "\n",
    "        if epoch == 0 or (epoch + 1) % print_interval == 0:\n",
    "            print(f\"EPOCH: {epoch + 1}/{epochs}, LOSS: {total_loss:.5f}\")\n",
    "\n",
    "    torch.save(net.to('cpu').state_dict(), './image_recognition/weights/CIFAR100_DEIT_TINY_RA_L_OCLR_LS_FT.pth')\n",
    "    return dict(logs)"
   ]
  },
  {
   "cell_type": "code",
   "execution_count": 9,
   "metadata": {},
   "outputs": [
    {
     "name": "stderr",
     "output_type": "stream",
     "text": [
      "Using bfloat16 Automatic Mixed Precision (AMP)\n",
      "You are using a CUDA device ('NVIDIA GeForce RTX 3090') that has Tensor Cores. To properly utilize them, you should set `torch.set_float32_matmul_precision('medium' | 'high')` which will trade-off precision for performance. For more details, read https://pytorch.org/docs/stable/generated/torch.set_float32_matmul_precision.html#torch.set_float32_matmul_precision\n",
      "Seed set to 51966\n"
     ]
    },
    {
     "name": "stdout",
     "output_type": "stream",
     "text": [
      "Files already downloaded and verified\n"
     ]
    },
    {
     "data": {
      "application/vnd.jupyter.widget-view+json": {
       "model_id": "b93723789e04400fb6683e53b00d285c",
       "version_major": 2,
       "version_minor": 0
      },
      "text/plain": [
       "model.safetensors:   0%|          | 0.00/22.9M [00:00<?, ?B/s]"
      ]
     },
     "metadata": {},
     "output_type": "display_data"
    },
    {
     "data": {
      "application/vnd.jupyter.widget-view+json": {
       "model_id": "574bde88ff5b421ca0e8ea75c03d199d",
       "version_major": 2,
       "version_minor": 0
      },
      "text/plain": [
       "  0%|          | 0/200 [00:00<?, ?it/s]"
      ]
     },
     "metadata": {},
     "output_type": "display_data"
    },
    {
     "name": "stderr",
     "output_type": "stream",
     "text": [
      "W1011 12:21:13.898000 140066413393728 torch/fx/experimental/symbolic_shapes.py:4449] [0/1] ps1 is not in var_ranges, defaulting to unknown range.\n",
      "W1011 12:21:15.559000 140066413393728 torch/fx/experimental/symbolic_shapes.py:4449] [0/1] ps1 is not in var_ranges, defaulting to unknown range.\n"
     ]
    },
    {
     "name": "stdout",
     "output_type": "stream",
     "text": [
      "EPOCH: 1/200, LOSS: 3.97465\n",
      "EPOCH: 10/200, LOSS: 1.73952\n",
      "EPOCH: 20/200, LOSS: 1.66347\n",
      "EPOCH: 30/200, LOSS: 1.68526\n",
      "EPOCH: 40/200, LOSS: 1.67334\n",
      "EPOCH: 50/200, LOSS: 1.60221\n",
      "EPOCH: 60/200, LOSS: 1.49436\n",
      "EPOCH: 70/200, LOSS: 1.38542\n",
      "EPOCH: 80/200, LOSS: 1.31166\n",
      "EPOCH: 90/200, LOSS: 1.23854\n",
      "EPOCH: 100/200, LOSS: 1.18656\n",
      "EPOCH: 110/200, LOSS: 1.14670\n",
      "EPOCH: 120/200, LOSS: 1.10244\n",
      "EPOCH: 130/200, LOSS: 1.07118\n",
      "EPOCH: 140/200, LOSS: 1.04125\n",
      "EPOCH: 150/200, LOSS: 1.00694\n",
      "EPOCH: 160/200, LOSS: 0.98316\n",
      "EPOCH: 170/200, LOSS: 0.95497\n",
      "EPOCH: 180/200, LOSS: 0.94845\n",
      "EPOCH: 190/200, LOSS: 0.93549\n",
      "EPOCH: 200/200, LOSS: 0.93553\n"
     ]
    },
    {
     "name": "stderr",
     "output_type": "stream",
     "text": [
      "/tmp/ipykernel_21148/3258549459.py:16: UserWarning: No artists with labels found to put in legend.  Note that artists whose label start with an underscore are ignored when legend() is called with no argument.\n",
      "  fig.legend()\n"
     ]
    },
    {
     "data": {
      "image/png": "[encoded data removed]",
      "text/plain": [
       "<Figure size 300x200 with 1 Axes>"
      ]
     },
     "metadata": {},
     "output_type": "display_data"
    }
   ],
   "source": [
    "fabric = L.Fabric(\n",
    "    accelerator='cuda',\n",
    "    devices=[0],\n",
    "    precision='bf16-mixed',\n",
    ")\n",
    "name = 'CIFAR100_DEIT_TINY_RA_L_OCLR_LS_FT'\n",
    "results[name] = fabric.launch(train_cifar100_deit_tiny_ra_l_oclr_ls_ft)\n",
    "names.append(name)\n",
    "\n",
    "fig, ax = plt.subplots(nrows=1, ncols=1, figsize=(3, 2))\n",
    "ax.plot(results[name]['loss'])\n",
    "ax.grid()\n",
    "ax.set_ylim((0.0, 4.0))\n",
    "ax.set_xlim((0, 200))\n",
    "fig.tight_layout()\n",
    "fig.legend()\n",
    "plt.show()"
   ]
  },
  {
   "cell_type": "markdown",
   "metadata": {},
   "source": [
    "## Eval"
   ]
  },
  {
   "cell_type": "code",
   "execution_count": 4,
   "metadata": {},
   "outputs": [],
   "source": [
    "def evaluate_phase(weight_name, device):\n",
    "    test_transform = transforms.Compose([\n",
    "        transforms.ToImage(),\n",
    "        transforms.ToDtype(torch.float32, scale=True),\n",
    "        transforms.Normalize((0.5071, 0.4867, 0.4408), (0.2675, 0.2565, 0.2761)),\n",
    "    ])\n",
    "    test_ds = datasets.CIFAR100(\n",
    "        root='./image_recognition/data',\n",
    "        train=False,\n",
    "        transform=test_transform,\n",
    "        download=False,\n",
    "    )\n",
    "    test_loader = DataLoader(\n",
    "        test_ds,\n",
    "        batch_size=256,\n",
    "        shuffle=False,\n",
    "        num_workers=4,\n",
    "        pin_memory=True,\n",
    "        drop_last=False,\n",
    "        persistent_workers=True,\n",
    "    )\n",
    "\n",
    "    net = deit.deit_tiny_patch16_224(\n",
    "        num_classes=100,\n",
    "        img_size=(32, 32),\n",
    "        patch_size=(4, 4),\n",
    "    )\n",
    "    net.load_state_dict(torch.load('./image_recognition/weights/' + weight_name, weights_only=True))\n",
    "    net.to(device)\n",
    "\n",
    "    acc = evaluate(net, test_loader, device)\n",
    "    return acc"
   ]
  },
  {
   "cell_type": "code",
   "execution_count": 5,
   "metadata": {},
   "outputs": [
    {
     "name": "stdout",
     "output_type": "stream",
     "text": [
      "Files already downloaded and verified\n"
     ]
    }
   ],
   "source": [
    "test_ds = datasets.CIFAR100(\n",
    "    root='./image_recognition/data',\n",
    "    train=False,\n",
    "    download=True,\n",
    ")\n",
    "device = torch.device('cuda:0' if torch.cuda.is_available() else 'cpu')"
   ]
  },
  {
   "cell_type": "code",
   "execution_count": 10,
   "metadata": {},
   "outputs": [
    {
     "data": {
      "text/plain": [
       "['CIFAR100_DEIT_TINY_RA_L_OCLR_LS', 'CIFAR100_DEIT_TINY_RA_L_OCLR_LS_FT']"
      ]
     },
     "execution_count": 10,
     "metadata": {},
     "output_type": "execute_result"
    }
   ],
   "source": [
    "# search weights\n",
    "src = Path('./image_recognition/weights')\n",
    "src = src.glob('CIFAR100_DEIT_TINY*.pth')\n",
    "src = map(lambda p: p.stem, src)\n",
    "names = list(set(names) | set(src))\n",
    "del src\n",
    "names"
   ]
  },
  {
   "cell_type": "code",
   "execution_count": 11,
   "metadata": {},
   "outputs": [
    {
     "name": "stdout",
     "output_type": "stream",
     "text": [
      "Acc: CIFAR100_DEIT_TINY_RA_L_OCLR_LS, 0.55850\n",
      "Acc: CIFAR100_DEIT_TINY_RA_L_OCLR_LS_FT, 0.75060\n"
     ]
    }
   ],
   "source": [
    "for name in names:\n",
    "    if not ('acc' in results[name]):\n",
    "        results[name]['acc'] = evaluate_phase(name + '.pth', device=device)\n",
    "    print(f'Acc: {name}, {results[name]['acc']:.5f}')"
   ]
  }
 ],
 "metadata": {
  "kernelspec": {
   "display_name": "ipynotebook",
   "language": "python",
   "name": "python3"
  },
  "language_info": {
   "codemirror_mode": {
    "name": "ipython",
    "version": 3
   },
   "file_extension": ".py",
   "mimetype": "text/x-python",
   "name": "python",
   "nbconvert_exporter": "python",
   "pygments_lexer": "ipython3",
   "version": "3.12.7"
  }
 },
 "nbformat": 4,
 "nbformat_minor": 2
}
