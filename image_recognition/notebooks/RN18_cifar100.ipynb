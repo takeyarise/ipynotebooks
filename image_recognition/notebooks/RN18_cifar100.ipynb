{
 "cells": [
  {
   "cell_type": "markdown",
   "metadata": {},
   "source": [
    "# ResNet18 + CIFAR100 の性能確認\n",
    "\n"
   ]
  },
  {
   "cell_type": "code",
   "execution_count": 1,
   "metadata": {},
   "outputs": [],
   "source": [
    "# Set Project Root Directory\n",
    "import os\n",
    "\n",
    "current_dir = os.getcwd()\n",
    "root_marker = \"common\"\n",
    "while current_dir != os.path.dirname(current_dir):\n",
    "    if root_marker in os.listdir(current_dir):\n",
    "        break\n",
    "    current_dir = os.path.dirname(current_dir)\n",
    "\n",
    "project_root = current_dir\n",
    "if os.getcwd() != project_root:\n",
    "    %cd {project_root};"
   ]
  },
  {
   "cell_type": "code",
   "execution_count": 2,
   "metadata": {},
   "outputs": [],
   "source": [
    "%load_ext autoreload\n",
    "%autoreload 2"
   ]
  },
  {
   "cell_type": "code",
   "execution_count": 3,
   "metadata": {},
   "outputs": [],
   "source": [
    "from collections import defaultdict\n",
    "import torch\n",
    "import torch.nn as nn\n",
    "import torch.optim as optim\n",
    "import torchvision.transforms.v2 as transforms\n",
    "import torchvision.datasets as datasets\n",
    "from torch.utils.data import DataLoader\n",
    "from torchvision.models import resnet18\n",
    "from timm.optim import Lookahead\n",
    "import lightning as L\n",
    "from tqdm.auto import tqdm\n",
    "import matplotlib.pyplot as plt\n",
    "from torchinfo import summary\n",
    "\n",
    "from common.optim.ranger import Ranger\n",
    "from common.optim.sam import SAM, bypass_running_stats\n",
    "from common.utils.training import evaluate\n",
    "from common.loss.acls import ACLS"
   ]
  },
  {
   "cell_type": "code",
   "execution_count": 4,
   "metadata": {},
   "outputs": [],
   "source": [
    "names = list()\n",
    "results = dict()"
   ]
  },
  {
   "cell_type": "markdown",
   "metadata": {},
   "source": [
    "## Architecture"
   ]
  },
  {
   "cell_type": "code",
   "execution_count": 66,
   "metadata": {},
   "outputs": [
    {
     "data": {
      "text/plain": [
       "==========================================================================================\n",
       "Layer (type:depth-idx)                   Output Shape              Param #\n",
       "==========================================================================================\n",
       "ResNet                                   [1, 100]                  --\n",
       "├─Conv2d: 1-1                            [1, 64, 16, 16]           9,408\n",
       "├─BatchNorm2d: 1-2                       [1, 64, 16, 16]           128\n",
       "├─ReLU: 1-3                              [1, 64, 16, 16]           --\n",
       "├─MaxPool2d: 1-4                         [1, 64, 8, 8]             --\n",
       "├─Sequential: 1-5                        [1, 64, 8, 8]             --\n",
       "│    └─BasicBlock: 2-1                   [1, 64, 8, 8]             --\n",
       "│    │    └─Conv2d: 3-1                  [1, 64, 8, 8]             36,864\n",
       "│    │    └─BatchNorm2d: 3-2             [1, 64, 8, 8]             128\n",
       "│    │    └─ReLU: 3-3                    [1, 64, 8, 8]             --\n",
       "│    │    └─Conv2d: 3-4                  [1, 64, 8, 8]             36,864\n",
       "│    │    └─BatchNorm2d: 3-5             [1, 64, 8, 8]             128\n",
       "│    │    └─ReLU: 3-6                    [1, 64, 8, 8]             --\n",
       "│    └─BasicBlock: 2-2                   [1, 64, 8, 8]             --\n",
       "│    │    └─Conv2d: 3-7                  [1, 64, 8, 8]             36,864\n",
       "│    │    └─BatchNorm2d: 3-8             [1, 64, 8, 8]             128\n",
       "│    │    └─ReLU: 3-9                    [1, 64, 8, 8]             --\n",
       "│    │    └─Conv2d: 3-10                 [1, 64, 8, 8]             36,864\n",
       "│    │    └─BatchNorm2d: 3-11            [1, 64, 8, 8]             128\n",
       "│    │    └─ReLU: 3-12                   [1, 64, 8, 8]             --\n",
       "├─Sequential: 1-6                        [1, 128, 4, 4]            --\n",
       "│    └─BasicBlock: 2-3                   [1, 128, 4, 4]            --\n",
       "│    │    └─Conv2d: 3-13                 [1, 128, 4, 4]            73,728\n",
       "│    │    └─BatchNorm2d: 3-14            [1, 128, 4, 4]            256\n",
       "│    │    └─ReLU: 3-15                   [1, 128, 4, 4]            --\n",
       "│    │    └─Conv2d: 3-16                 [1, 128, 4, 4]            147,456\n",
       "│    │    └─BatchNorm2d: 3-17            [1, 128, 4, 4]            256\n",
       "│    │    └─Sequential: 3-18             [1, 128, 4, 4]            8,448\n",
       "│    │    └─ReLU: 3-19                   [1, 128, 4, 4]            --\n",
       "│    └─BasicBlock: 2-4                   [1, 128, 4, 4]            --\n",
       "│    │    └─Conv2d: 3-20                 [1, 128, 4, 4]            147,456\n",
       "│    │    └─BatchNorm2d: 3-21            [1, 128, 4, 4]            256\n",
       "│    │    └─ReLU: 3-22                   [1, 128, 4, 4]            --\n",
       "│    │    └─Conv2d: 3-23                 [1, 128, 4, 4]            147,456\n",
       "│    │    └─BatchNorm2d: 3-24            [1, 128, 4, 4]            256\n",
       "│    │    └─ReLU: 3-25                   [1, 128, 4, 4]            --\n",
       "├─Sequential: 1-7                        [1, 256, 2, 2]            --\n",
       "│    └─BasicBlock: 2-5                   [1, 256, 2, 2]            --\n",
       "│    │    └─Conv2d: 3-26                 [1, 256, 2, 2]            294,912\n",
       "│    │    └─BatchNorm2d: 3-27            [1, 256, 2, 2]            512\n",
       "│    │    └─ReLU: 3-28                   [1, 256, 2, 2]            --\n",
       "│    │    └─Conv2d: 3-29                 [1, 256, 2, 2]            589,824\n",
       "│    │    └─BatchNorm2d: 3-30            [1, 256, 2, 2]            512\n",
       "│    │    └─Sequential: 3-31             [1, 256, 2, 2]            33,280\n",
       "│    │    └─ReLU: 3-32                   [1, 256, 2, 2]            --\n",
       "│    └─BasicBlock: 2-6                   [1, 256, 2, 2]            --\n",
       "│    │    └─Conv2d: 3-33                 [1, 256, 2, 2]            589,824\n",
       "│    │    └─BatchNorm2d: 3-34            [1, 256, 2, 2]            512\n",
       "│    │    └─ReLU: 3-35                   [1, 256, 2, 2]            --\n",
       "│    │    └─Conv2d: 3-36                 [1, 256, 2, 2]            589,824\n",
       "│    │    └─BatchNorm2d: 3-37            [1, 256, 2, 2]            512\n",
       "│    │    └─ReLU: 3-38                   [1, 256, 2, 2]            --\n",
       "├─Sequential: 1-8                        [1, 512, 1, 1]            --\n",
       "│    └─BasicBlock: 2-7                   [1, 512, 1, 1]            --\n",
       "│    │    └─Conv2d: 3-39                 [1, 512, 1, 1]            1,179,648\n",
       "│    │    └─BatchNorm2d: 3-40            [1, 512, 1, 1]            1,024\n",
       "│    │    └─ReLU: 3-41                   [1, 512, 1, 1]            --\n",
       "│    │    └─Conv2d: 3-42                 [1, 512, 1, 1]            2,359,296\n",
       "│    │    └─BatchNorm2d: 3-43            [1, 512, 1, 1]            1,024\n",
       "│    │    └─Sequential: 3-44             [1, 512, 1, 1]            132,096\n",
       "│    │    └─ReLU: 3-45                   [1, 512, 1, 1]            --\n",
       "│    └─BasicBlock: 2-8                   [1, 512, 1, 1]            --\n",
       "│    │    └─Conv2d: 3-46                 [1, 512, 1, 1]            2,359,296\n",
       "│    │    └─BatchNorm2d: 3-47            [1, 512, 1, 1]            1,024\n",
       "│    │    └─ReLU: 3-48                   [1, 512, 1, 1]            --\n",
       "│    │    └─Conv2d: 3-49                 [1, 512, 1, 1]            2,359,296\n",
       "│    │    └─BatchNorm2d: 3-50            [1, 512, 1, 1]            1,024\n",
       "│    │    └─ReLU: 3-51                   [1, 512, 1, 1]            --\n",
       "├─AdaptiveAvgPool2d: 1-9                 [1, 512, 1, 1]            --\n",
       "├─Linear: 1-10                           [1, 100]                  51,300\n",
       "==========================================================================================\n",
       "Total params: 11,227,812\n",
       "Trainable params: 11,227,812\n",
       "Non-trainable params: 0\n",
       "Total mult-adds (Units.MEGABYTES): 37.07\n",
       "==========================================================================================\n",
       "Input size (MB): 0.01\n",
       "Forward/backward pass size (MB): 0.81\n",
       "Params size (MB): 44.91\n",
       "Estimated Total Size (MB): 45.74\n",
       "=========================================================================================="
      ]
     },
     "execution_count": 66,
     "metadata": {},
     "output_type": "execute_result"
    }
   ],
   "source": [
    "summary(resnet18(weights=None, num_classes=100), (1, 3, 32, 32))"
   ]
  },
  {
   "cell_type": "markdown",
   "metadata": {},
   "source": [
    "## Train"
   ]
  },
  {
   "cell_type": "markdown",
   "metadata": {},
   "source": [
    "### RA, MSLR"
   ]
  },
  {
   "cell_type": "code",
   "execution_count": 3,
   "metadata": {},
   "outputs": [],
   "source": [
    "def train_cifar100_rn18_ra_mslr(fabric):\n",
    "    L.seed_everything(seed=0xcafe, workers=True, verbose=True)\n",
    "    batch_size = 32\n",
    "    epochs = 200\n",
    "    print_interval = 10\n",
    "\n",
    "    train_transform = transforms.Compose([\n",
    "        transforms.ToImage(),\n",
    "        transforms.RandomResizedCrop(size=32, antialias=True),\n",
    "        transforms.RandomHorizontalFlip(),\n",
    "        transforms.ToDtype(torch.float32, scale=True),\n",
    "        transforms.Normalize((0.5071, 0.4867, 0.4408), (0.2675, 0.2565, 0.2761)),\n",
    "    ])\n",
    "    train_ds = datasets.CIFAR100(\n",
    "        root='./image_recognition/data',\n",
    "        train=True,\n",
    "        transform=train_transform,\n",
    "        download=True,\n",
    "    )\n",
    "    train_loader = DataLoader(\n",
    "        train_ds,\n",
    "        batch_size=batch_size,\n",
    "        shuffle=True,\n",
    "        num_workers=4,\n",
    "        pin_memory=True,\n",
    "        drop_last=False,\n",
    "        persistent_workers=True,\n",
    "    )\n",
    "\n",
    "    n_data = len(train_ds)\n",
    "\n",
    "    net = resnet18(weights=None, num_classes=100)\n",
    "    optimizer = optim.RAdam(\n",
    "        params=net.parameters(),\n",
    "        lr=1e-3,\n",
    "        weight_decay=5e-4,\n",
    "        decoupled_weight_decay=True,\n",
    "        foreach=True,\n",
    "    )\n",
    "    scheduler = optim.lr_scheduler.MultiStepLR(\n",
    "        optimizer=optimizer,\n",
    "        milestones=[100, 150],\n",
    "        gamma=0.1,\n",
    "    )\n",
    "    criterion = nn.CrossEntropyLoss()\n",
    "\n",
    "    model = torch.compile(net, mode='reduce-overhead')\n",
    "    model, optimizer = fabric.setup(model, optimizer)\n",
    "    loader = fabric.setup_dataloaders(train_loader)\n",
    "\n",
    "    model.train()\n",
    "    logs = defaultdict(list)\n",
    "    for epoch in tqdm(range(epochs)):\n",
    "        total_loss = 0\n",
    "        for x, y in loader:\n",
    "            optimizer.zero_grad()\n",
    "            out = model(x)\n",
    "            loss = criterion(out, y)\n",
    "            fabric.backward(loss)\n",
    "            optimizer.step()\n",
    "\n",
    "            total_loss += loss.item() * len(x)\n",
    "\n",
    "        scheduler.step()\n",
    "        total_loss = total_loss / n_data\n",
    "        logs['loss'].append(total_loss)\n",
    "\n",
    "        if epoch == 0 or (epoch + 1) % print_interval == 0:\n",
    "            print(f\"EPOCH: {epoch + 1}/{epochs}, LOSS: {total_loss:.5f}\")\n",
    "\n",
    "    torch.save(net.to('cpu').state_dict(), './image_recognition/weights/CIFAR100_RN18_RA_MSLR.pth')\n",
    "    return dict(logs)"
   ]
  },
  {
   "cell_type": "code",
   "execution_count": 4,
   "metadata": {},
   "outputs": [
    {
     "name": "stderr",
     "output_type": "stream",
     "text": [
      "Using bfloat16 Automatic Mixed Precision (AMP)\n",
      "You are using a CUDA device ('NVIDIA GeForce RTX 3090') that has Tensor Cores. To properly utilize them, you should set `torch.set_float32_matmul_precision('medium' | 'high')` which will trade-off precision for performance. For more details, read https://pytorch.org/docs/stable/generated/torch.set_float32_matmul_precision.html#torch.set_float32_matmul_precision\n",
      "Seed set to 51966\n"
     ]
    },
    {
     "name": "stdout",
     "output_type": "stream",
     "text": [
      "Files already downloaded and verified\n"
     ]
    },
    {
     "data": {
      "application/vnd.jupyter.widget-view+json": {
       "model_id": "15aec196c402452b90060e734c8a78cd",
       "version_major": 2,
       "version_minor": 0
      },
      "text/plain": [
       "  0%|          | 0/200 [00:00<?, ?it/s]"
      ]
     },
     "metadata": {},
     "output_type": "display_data"
    },
    {
     "name": "stdout",
     "output_type": "stream",
     "text": [
      "EPOCH: 1/200, LOSS: 4.08092\n",
      "EPOCH: 10/200, LOSS: 2.72322\n",
      "EPOCH: 20/200, LOSS: 2.29282\n",
      "EPOCH: 30/200, LOSS: 2.05540\n",
      "EPOCH: 40/200, LOSS: 1.89835\n",
      "EPOCH: 50/200, LOSS: 1.77726\n",
      "EPOCH: 60/200, LOSS: 1.67580\n",
      "EPOCH: 70/200, LOSS: 1.59086\n",
      "EPOCH: 80/200, LOSS: 1.52341\n",
      "EPOCH: 90/200, LOSS: 1.44571\n",
      "EPOCH: 100/200, LOSS: 1.38917\n",
      "EPOCH: 110/200, LOSS: 1.14978\n",
      "EPOCH: 120/200, LOSS: 1.11021\n",
      "EPOCH: 130/200, LOSS: 1.09168\n",
      "EPOCH: 140/200, LOSS: 1.06769\n",
      "EPOCH: 150/200, LOSS: 1.05165\n",
      "EPOCH: 160/200, LOSS: 1.03598\n",
      "EPOCH: 170/200, LOSS: 1.02225\n",
      "EPOCH: 180/200, LOSS: 1.02845\n",
      "EPOCH: 190/200, LOSS: 1.01849\n",
      "EPOCH: 200/200, LOSS: 1.01834\n"
     ]
    }
   ],
   "source": [
    "fabric = L.Fabric(\n",
    "    accelerator='cuda',\n",
    "    devices=[0],\n",
    "    precision='bf16-mixed',\n",
    ")\n",
    "name = 'CIFAR100_RN18_RA_MSLR'\n",
    "results['CIFAR100_RN18_RA_MSLR'] = fabric.launch(train_cifar100_rn18_ra_mslr)\n",
    "names.append(name)"
   ]
  },
  {
   "cell_type": "markdown",
   "metadata": {},
   "source": [
    "### RA, OCLR"
   ]
  },
  {
   "cell_type": "code",
   "execution_count": 24,
   "metadata": {},
   "outputs": [],
   "source": [
    "def train_cifar100_rn18_ra_oclr(fabric):\n",
    "    L.seed_everything(seed=0xcafe, workers=True, verbose=True)\n",
    "    batch_size = 32\n",
    "    epochs = 200\n",
    "    print_interval = 10\n",
    "\n",
    "    train_transform = transforms.Compose([\n",
    "        transforms.ToImage(),\n",
    "        transforms.RandomResizedCrop(size=32, antialias=True),\n",
    "        transforms.RandomHorizontalFlip(),\n",
    "        transforms.ToDtype(torch.float32, scale=True),\n",
    "        transforms.Normalize((0.5071, 0.4867, 0.4408), (0.2675, 0.2565, 0.2761)),\n",
    "    ])\n",
    "    train_ds = datasets.CIFAR100(\n",
    "        root='./image_recognition/data',\n",
    "        train=True,\n",
    "        transform=train_transform,\n",
    "        download=True,\n",
    "    )\n",
    "    train_loader = DataLoader(\n",
    "        train_ds,\n",
    "        batch_size=batch_size,\n",
    "        shuffle=True,\n",
    "        num_workers=4,\n",
    "        pin_memory=True,\n",
    "        drop_last=False,\n",
    "        persistent_workers=True,\n",
    "    )\n",
    "\n",
    "    n_data = len(train_ds)\n",
    "\n",
    "    net = resnet18(weights=None, num_classes=100)\n",
    "    optimizer = optim.RAdam(\n",
    "        params=net.parameters(),\n",
    "        lr=1e-4,\n",
    "        weight_decay=5e-4,\n",
    "        decoupled_weight_decay=True,\n",
    "        foreach=True,\n",
    "    )\n",
    "    scheduler = optim.lr_scheduler.OneCycleLR(\n",
    "        optimizer=optimizer,\n",
    "        max_lr=1e-3,\n",
    "        steps_per_epoch=len(train_loader),\n",
    "        epochs=epochs,\n",
    "    )\n",
    "    criterion = nn.CrossEntropyLoss()\n",
    "\n",
    "    model = torch.compile(net, mode='reduce-overhead')\n",
    "    model, optimizer = fabric.setup(model, optimizer)\n",
    "    loader = fabric.setup_dataloaders(train_loader)\n",
    "\n",
    "    model.train()\n",
    "    logs = defaultdict(list)\n",
    "    for epoch in tqdm(range(epochs)):\n",
    "        total_loss = 0\n",
    "        for x, y in loader:\n",
    "            optimizer.zero_grad()\n",
    "            out = model(x)\n",
    "            loss = criterion(out, y)\n",
    "            fabric.backward(loss)\n",
    "            optimizer.step()\n",
    "            scheduler.step()\n",
    "\n",
    "            total_loss += loss.item() * len(x)\n",
    "\n",
    "        total_loss = total_loss / n_data\n",
    "        logs['loss'].append(total_loss)\n",
    "\n",
    "        if epoch == 0 or (epoch + 1) % print_interval == 0:\n",
    "            print(f\"EPOCH: {epoch + 1}/{epochs}, LOSS: {total_loss:.5f}\")\n",
    "\n",
    "    torch.save(net.to('cpu').state_dict(), './image_recognition/weights/CIFAR100_RN18_RA_OCLR.pth')\n",
    "    return dict(logs)"
   ]
  },
  {
   "cell_type": "code",
   "execution_count": 25,
   "metadata": {},
   "outputs": [
    {
     "name": "stderr",
     "output_type": "stream",
     "text": [
      "Using bfloat16 Automatic Mixed Precision (AMP)\n",
      "Seed set to 51966\n"
     ]
    },
    {
     "name": "stdout",
     "output_type": "stream",
     "text": [
      "Files already downloaded and verified\n"
     ]
    },
    {
     "data": {
      "application/vnd.jupyter.widget-view+json": {
       "model_id": "253b26adbcc64aeda471136758274ed2",
       "version_major": 2,
       "version_minor": 0
      },
      "text/plain": [
       "  0%|          | 0/200 [00:00<?, ?it/s]"
      ]
     },
     "metadata": {},
     "output_type": "display_data"
    },
    {
     "name": "stdout",
     "output_type": "stream",
     "text": [
      "EPOCH: 1/200, LOSS: 4.41419\n",
      "EPOCH: 10/200, LOSS: 3.11357\n",
      "EPOCH: 20/200, LOSS: 2.74740\n",
      "EPOCH: 30/200, LOSS: 2.47731\n",
      "EPOCH: 40/200, LOSS: 2.26125\n",
      "EPOCH: 50/200, LOSS: 2.08712\n",
      "EPOCH: 60/200, LOSS: 1.92698\n",
      "EPOCH: 70/200, LOSS: 1.76350\n",
      "EPOCH: 80/200, LOSS: 1.62926\n",
      "EPOCH: 90/200, LOSS: 1.51009\n",
      "EPOCH: 100/200, LOSS: 1.39469\n",
      "EPOCH: 110/200, LOSS: 1.30614\n",
      "EPOCH: 120/200, LOSS: 1.21884\n",
      "EPOCH: 130/200, LOSS: 1.12995\n",
      "EPOCH: 140/200, LOSS: 1.06555\n",
      "EPOCH: 150/200, LOSS: 0.99365\n",
      "EPOCH: 160/200, LOSS: 0.93418\n",
      "EPOCH: 170/200, LOSS: 0.89119\n",
      "EPOCH: 180/200, LOSS: 0.86450\n",
      "EPOCH: 190/200, LOSS: 0.85697\n",
      "EPOCH: 200/200, LOSS: 0.85259\n"
     ]
    }
   ],
   "source": [
    "fabric = L.Fabric(\n",
    "    accelerator='cuda',\n",
    "    devices=[0],\n",
    "    precision='bf16-mixed',\n",
    ")\n",
    "name = 'CIFAR100_RN18_RA_OCLR'\n",
    "results['CIFAR100_RN18_RA_OCLR'] = fabric.launch(train_cifar100_rn18_ra_oclr)\n",
    "names.append(name)"
   ]
  },
  {
   "cell_type": "markdown",
   "metadata": {},
   "source": [
    "### RA, OCLR, LS"
   ]
  },
  {
   "cell_type": "code",
   "execution_count": 46,
   "metadata": {},
   "outputs": [],
   "source": [
    "def train_cifar100_rn18_ra_oclr_ls(fabric):\n",
    "    L.seed_everything(seed=0xcafe, workers=True, verbose=True)\n",
    "    batch_size = 32\n",
    "    epochs = 200\n",
    "    print_interval = 10\n",
    "\n",
    "    train_transform = transforms.Compose([\n",
    "        transforms.ToImage(),\n",
    "        transforms.RandomResizedCrop(size=32, antialias=True),\n",
    "        transforms.RandomHorizontalFlip(),\n",
    "        transforms.ToDtype(torch.float32, scale=True),\n",
    "        transforms.Normalize((0.5071, 0.4867, 0.4408), (0.2675, 0.2565, 0.2761)),\n",
    "    ])\n",
    "    train_ds = datasets.CIFAR100(\n",
    "        root='./image_recognition/data',\n",
    "        train=True,\n",
    "        transform=train_transform,\n",
    "        download=True,\n",
    "    )\n",
    "    train_loader = DataLoader(\n",
    "        train_ds,\n",
    "        batch_size=batch_size,\n",
    "        shuffle=True,\n",
    "        num_workers=4,\n",
    "        pin_memory=True,\n",
    "        drop_last=False,\n",
    "        persistent_workers=True,\n",
    "    )\n",
    "\n",
    "    n_data = len(train_ds)\n",
    "\n",
    "    net = resnet18(weights=None, num_classes=100)\n",
    "    optimizer = optim.RAdam(\n",
    "        params=net.parameters(),\n",
    "        lr=1e-4,\n",
    "        weight_decay=5e-4,\n",
    "        decoupled_weight_decay=True,\n",
    "        foreach=True,\n",
    "    )\n",
    "    scheduler = optim.lr_scheduler.OneCycleLR(\n",
    "        optimizer=optimizer,\n",
    "        max_lr=1e-3,\n",
    "        steps_per_epoch=len(train_loader),\n",
    "        epochs=epochs,\n",
    "    )\n",
    "    criterion = nn.CrossEntropyLoss(label_smoothing=0.1)\n",
    "\n",
    "    model = torch.compile(net, mode='reduce-overhead')\n",
    "    model, optimizer = fabric.setup(model, optimizer)\n",
    "    loader = fabric.setup_dataloaders(train_loader)\n",
    "\n",
    "    model.train()\n",
    "    logs = defaultdict(list)\n",
    "    for epoch in tqdm(range(epochs)):\n",
    "        total_loss = 0\n",
    "        for x, y in loader:\n",
    "            optimizer.zero_grad()\n",
    "            out = model(x)\n",
    "            loss = criterion(out, y)\n",
    "            fabric.backward(loss)\n",
    "            optimizer.step()\n",
    "            scheduler.step()\n",
    "\n",
    "            total_loss += loss.item() * len(x)\n",
    "\n",
    "        total_loss = total_loss / n_data\n",
    "        logs['loss'].append(total_loss)\n",
    "\n",
    "        if epoch == 0 or (epoch + 1) % print_interval == 0:\n",
    "            print(f\"EPOCH: {epoch + 1}/{epochs}, LOSS: {total_loss:.5f}\")\n",
    "\n",
    "    torch.save(net.to('cpu').state_dict(), './image_recognition/weights/CIFAR100_RN18_RA_OCLR_LS.pth')\n",
    "    return dict(logs)"
   ]
  },
  {
   "cell_type": "code",
   "execution_count": 47,
   "metadata": {},
   "outputs": [
    {
     "name": "stderr",
     "output_type": "stream",
     "text": [
      "Using bfloat16 Automatic Mixed Precision (AMP)\n",
      "Seed set to 51966\n"
     ]
    },
    {
     "name": "stdout",
     "output_type": "stream",
     "text": [
      "Files already downloaded and verified\n"
     ]
    },
    {
     "data": {
      "application/vnd.jupyter.widget-view+json": {
       "model_id": "dce4f525871d4e3087fa6eb8991a2d12",
       "version_major": 2,
       "version_minor": 0
      },
      "text/plain": [
       "  0%|          | 0/200 [00:00<?, ?it/s]"
      ]
     },
     "metadata": {},
     "output_type": "display_data"
    },
    {
     "name": "stdout",
     "output_type": "stream",
     "text": [
      "EPOCH: 1/200, LOSS: 4.46844\n",
      "EPOCH: 10/200, LOSS: 3.40823\n",
      "EPOCH: 20/200, LOSS: 3.10738\n",
      "EPOCH: 30/200, LOSS: 2.88108\n",
      "EPOCH: 40/200, LOSS: 2.70708\n",
      "EPOCH: 50/200, LOSS: 2.56445\n",
      "EPOCH: 60/200, LOSS: 2.43453\n",
      "EPOCH: 70/200, LOSS: 2.31168\n",
      "EPOCH: 80/200, LOSS: 2.20001\n",
      "EPOCH: 90/200, LOSS: 2.10597\n",
      "EPOCH: 100/200, LOSS: 2.00620\n",
      "EPOCH: 110/200, LOSS: 1.93616\n",
      "EPOCH: 120/200, LOSS: 1.85953\n",
      "EPOCH: 130/200, LOSS: 1.80065\n",
      "EPOCH: 140/200, LOSS: 1.74267\n",
      "EPOCH: 150/200, LOSS: 1.68414\n",
      "EPOCH: 160/200, LOSS: 1.64470\n",
      "EPOCH: 170/200, LOSS: 1.60385\n",
      "EPOCH: 180/200, LOSS: 1.58883\n",
      "EPOCH: 190/200, LOSS: 1.57927\n",
      "EPOCH: 200/200, LOSS: 1.57435\n"
     ]
    }
   ],
   "source": [
    "fabric = L.Fabric(\n",
    "    accelerator='cuda',\n",
    "    devices=[0],\n",
    "    precision='bf16-mixed',\n",
    ")\n",
    "name = 'CIFAR100_RN18_RA_OCLR_LS'\n",
    "results['CIFAR100_RN18_RA_OCLR_LS'] = fabric.launch(train_cifar100_rn18_ra_oclr_ls)\n",
    "names.append(name)"
   ]
  },
  {
   "cell_type": "markdown",
   "metadata": {},
   "source": [
    "### RA, OCLR, ACLS"
   ]
  },
  {
   "cell_type": "code",
   "execution_count": 60,
   "metadata": {},
   "outputs": [],
   "source": [
    "def train_cifar100_rn18_ra_oclr_acls(fabric):\n",
    "    L.seed_everything(seed=0xcafe, workers=True, verbose=True)\n",
    "    batch_size = 32\n",
    "    epochs = 200\n",
    "    print_interval = 10\n",
    "\n",
    "    train_transform = transforms.Compose([\n",
    "        transforms.ToImage(),\n",
    "        transforms.RandomResizedCrop(size=32, antialias=True),\n",
    "        transforms.RandomHorizontalFlip(),\n",
    "        transforms.ToDtype(torch.float32, scale=True),\n",
    "        transforms.Normalize((0.5071, 0.4867, 0.4408), (0.2675, 0.2565, 0.2761)),\n",
    "    ])\n",
    "    train_ds = datasets.CIFAR100(\n",
    "        root='./image_recognition/data',\n",
    "        train=True,\n",
    "        transform=train_transform,\n",
    "        download=True,\n",
    "    )\n",
    "    train_loader = DataLoader(\n",
    "        train_ds,\n",
    "        batch_size=batch_size,\n",
    "        shuffle=True,\n",
    "        num_workers=4,\n",
    "        pin_memory=True,\n",
    "        drop_last=False,\n",
    "        persistent_workers=True,\n",
    "    )\n",
    "\n",
    "    n_data = len(train_ds)\n",
    "\n",
    "    net = resnet18(weights=None, num_classes=100)\n",
    "    optimizer = optim.RAdam(\n",
    "        params=net.parameters(),\n",
    "        lr=1e-4,\n",
    "        weight_decay=5e-4,\n",
    "        decoupled_weight_decay=True,\n",
    "        foreach=True,\n",
    "    )\n",
    "    scheduler = optim.lr_scheduler.OneCycleLR(\n",
    "        optimizer=optimizer,\n",
    "        max_lr=1e-3,\n",
    "        steps_per_epoch=len(train_loader),\n",
    "        epochs=epochs,\n",
    "    )\n",
    "    criterion = ACLS()\n",
    "\n",
    "    model = torch.compile(net, mode='reduce-overhead')\n",
    "    model, optimizer = fabric.setup(model, optimizer)\n",
    "    loader = fabric.setup_dataloaders(train_loader)\n",
    "\n",
    "    model.train()\n",
    "    logs = defaultdict(list)\n",
    "    for epoch in tqdm(range(epochs)):\n",
    "        total_loss = 0\n",
    "        for x, y in loader:\n",
    "            optimizer.zero_grad()\n",
    "            out = model(x)\n",
    "            loss = criterion(out, y)\n",
    "            fabric.backward(loss)\n",
    "            optimizer.step()\n",
    "            scheduler.step()\n",
    "\n",
    "            total_loss += loss.item() * len(x)\n",
    "\n",
    "        total_loss = total_loss / n_data\n",
    "        logs['loss'].append(total_loss)\n",
    "\n",
    "        if epoch == 0 or (epoch + 1) % print_interval == 0:\n",
    "            print(f\"EPOCH: {epoch + 1}/{epochs}, LOSS: {total_loss:.5f}\")\n",
    "\n",
    "    torch.save(net.to('cpu').state_dict(), './image_recognition/weights/CIFAR100_RN18_RA_OCLR_ACLS.pth')\n",
    "    return dict(logs)"
   ]
  },
  {
   "cell_type": "code",
   "execution_count": 61,
   "metadata": {},
   "outputs": [
    {
     "name": "stderr",
     "output_type": "stream",
     "text": [
      "Using bfloat16 Automatic Mixed Precision (AMP)\n",
      "Seed set to 51966\n"
     ]
    },
    {
     "name": "stdout",
     "output_type": "stream",
     "text": [
      "Files already downloaded and verified\n"
     ]
    },
    {
     "data": {
      "application/vnd.jupyter.widget-view+json": {
       "model_id": "0efcbd2891714a3bbe16a88cc34013e2",
       "version_major": 2,
       "version_minor": 0
      },
      "text/plain": [
       "  0%|          | 0/200 [00:00<?, ?it/s]"
      ]
     },
     "metadata": {},
     "output_type": "display_data"
    },
    {
     "name": "stdout",
     "output_type": "stream",
     "text": [
      "EPOCH: 1/200, LOSS: 4.41451\n",
      "EPOCH: 10/200, LOSS: 3.11748\n",
      "EPOCH: 20/200, LOSS: 2.74645\n",
      "EPOCH: 30/200, LOSS: 2.48905\n",
      "EPOCH: 40/200, LOSS: 2.27392\n",
      "EPOCH: 50/200, LOSS: 2.09844\n",
      "EPOCH: 60/200, LOSS: 1.93780\n",
      "EPOCH: 70/200, LOSS: 1.78564\n",
      "EPOCH: 80/200, LOSS: 1.65488\n",
      "EPOCH: 90/200, LOSS: 1.53432\n",
      "EPOCH: 100/200, LOSS: 1.41984\n",
      "EPOCH: 110/200, LOSS: 1.33742\n",
      "EPOCH: 120/200, LOSS: 1.25173\n",
      "EPOCH: 130/200, LOSS: 1.17344\n",
      "EPOCH: 140/200, LOSS: 1.10940\n",
      "EPOCH: 150/200, LOSS: 1.03519\n",
      "EPOCH: 160/200, LOSS: 0.98962\n",
      "EPOCH: 170/200, LOSS: 0.94203\n",
      "EPOCH: 180/200, LOSS: 0.91603\n",
      "EPOCH: 190/200, LOSS: 0.90414\n",
      "EPOCH: 200/200, LOSS: 0.90329\n"
     ]
    }
   ],
   "source": [
    "fabric = L.Fabric(\n",
    "    accelerator='cuda',\n",
    "    devices=[0],\n",
    "    precision='bf16-mixed',\n",
    ")\n",
    "name = 'CIFAR100_RN18_RA_OCLR_ACLS'\n",
    "results['CIFAR100_RN18_RA_OCLR_ACLS'] = fabric.launch(train_cifar100_rn18_ra_oclr_acls)\n",
    "names.append(name)"
   ]
  },
  {
   "cell_type": "markdown",
   "metadata": {},
   "source": [
    "### RA + L, OCLR"
   ]
  },
  {
   "cell_type": "code",
   "execution_count": 32,
   "metadata": {},
   "outputs": [],
   "source": [
    "def train_cifar100_rn18_ra_l_oclr(fabric):\n",
    "    L.seed_everything(seed=0xcafe, workers=True, verbose=True)\n",
    "    batch_size = 32\n",
    "    epochs = 200\n",
    "    print_interval = 10\n",
    "\n",
    "    train_transform = transforms.Compose([\n",
    "        transforms.ToImage(),\n",
    "        transforms.RandomResizedCrop(size=32, antialias=True),\n",
    "        transforms.RandomHorizontalFlip(),\n",
    "        transforms.ToDtype(torch.float32, scale=True),\n",
    "        transforms.Normalize((0.5071, 0.4867, 0.4408), (0.2675, 0.2565, 0.2761)),\n",
    "    ])\n",
    "    train_ds = datasets.CIFAR100(\n",
    "        root='./image_recognition/data',\n",
    "        train=True,\n",
    "        transform=train_transform,\n",
    "        download=True,\n",
    "    )\n",
    "    train_loader = DataLoader(\n",
    "        train_ds,\n",
    "        batch_size=batch_size,\n",
    "        shuffle=True,\n",
    "        num_workers=4,\n",
    "        pin_memory=True,\n",
    "        drop_last=False,\n",
    "        persistent_workers=True,\n",
    "    )\n",
    "\n",
    "    n_data = len(train_ds)\n",
    "\n",
    "    net = resnet18(weights=None, num_classes=100)\n",
    "    base_optimizer = optim.RAdam(\n",
    "        params=net.parameters(),\n",
    "        lr=1e-4,\n",
    "        weight_decay=5e-4,\n",
    "        decoupled_weight_decay=True,\n",
    "        foreach=True,\n",
    "    )\n",
    "    optimizer = Lookahead(\n",
    "        base_optimizer,\n",
    "    )\n",
    "    scheduler = optim.lr_scheduler.OneCycleLR(\n",
    "        optimizer=optimizer,\n",
    "        max_lr=1e-3,\n",
    "        steps_per_epoch=len(train_loader),\n",
    "        epochs=epochs,\n",
    "    )\n",
    "    criterion = nn.CrossEntropyLoss()\n",
    "\n",
    "    model = torch.compile(net, mode='reduce-overhead')\n",
    "    model, optimizer = fabric.setup(model, optimizer)\n",
    "    loader = fabric.setup_dataloaders(train_loader)\n",
    "\n",
    "    model.train()\n",
    "    logs = defaultdict(list)\n",
    "    for epoch in tqdm(range(epochs)):\n",
    "        total_loss = 0\n",
    "        for x, y in loader:\n",
    "            optimizer.zero_grad()\n",
    "            out = model(x)\n",
    "            loss = criterion(out, y)\n",
    "            fabric.backward(loss)\n",
    "            optimizer.step()\n",
    "            scheduler.step()\n",
    "\n",
    "            total_loss += loss.item() * len(x)\n",
    "\n",
    "        total_loss = total_loss / n_data\n",
    "        logs['loss'].append(total_loss)\n",
    "\n",
    "        if epoch == 0 or (epoch + 1) % print_interval == 0:\n",
    "            print(f\"EPOCH: {epoch + 1}/{epochs}, LOSS: {total_loss:.5f}\")\n",
    "\n",
    "    torch.save(net.to('cpu').state_dict(), './image_recognition/weights/CIFAR100_RN18_RA_L_OCLR.pth')\n",
    "    return dict(logs)"
   ]
  },
  {
   "cell_type": "code",
   "execution_count": 33,
   "metadata": {},
   "outputs": [
    {
     "name": "stderr",
     "output_type": "stream",
     "text": [
      "Using bfloat16 Automatic Mixed Precision (AMP)\n",
      "Seed set to 51966\n"
     ]
    },
    {
     "name": "stdout",
     "output_type": "stream",
     "text": [
      "Files already downloaded and verified\n"
     ]
    },
    {
     "data": {
      "application/vnd.jupyter.widget-view+json": {
       "model_id": "7d5f90286ce94e57ab0de665b250175d",
       "version_major": 2,
       "version_minor": 0
      },
      "text/plain": [
       "  0%|          | 0/200 [00:00<?, ?it/s]"
      ]
     },
     "metadata": {},
     "output_type": "display_data"
    },
    {
     "name": "stdout",
     "output_type": "stream",
     "text": [
      "EPOCH: 1/200, LOSS: 4.54972\n",
      "EPOCH: 10/200, LOSS: 3.28226\n",
      "EPOCH: 20/200, LOSS: 2.84178\n",
      "EPOCH: 30/200, LOSS: 2.56837\n",
      "EPOCH: 40/200, LOSS: 2.34433\n",
      "EPOCH: 50/200, LOSS: 2.14636\n",
      "EPOCH: 60/200, LOSS: 1.95305\n",
      "EPOCH: 70/200, LOSS: 1.78750\n",
      "EPOCH: 80/200, LOSS: 1.63980\n",
      "EPOCH: 90/200, LOSS: 1.51526\n",
      "EPOCH: 100/200, LOSS: 1.39584\n",
      "EPOCH: 110/200, LOSS: 1.29434\n",
      "EPOCH: 120/200, LOSS: 1.20400\n",
      "EPOCH: 130/200, LOSS: 1.12722\n",
      "EPOCH: 140/200, LOSS: 1.05150\n",
      "EPOCH: 150/200, LOSS: 0.98559\n",
      "EPOCH: 160/200, LOSS: 0.93132\n",
      "EPOCH: 170/200, LOSS: 0.88203\n",
      "EPOCH: 180/200, LOSS: 0.86844\n",
      "EPOCH: 190/200, LOSS: 0.85271\n",
      "EPOCH: 200/200, LOSS: 0.84320\n"
     ]
    }
   ],
   "source": [
    "fabric = L.Fabric(\n",
    "    accelerator='cuda',\n",
    "    devices=[0],\n",
    "    precision='bf16-mixed',\n",
    ")\n",
    "name = 'CIFAR100_RN18_RA_L_OCLR'\n",
    "results['CIFAR100_RN18_RA_L_OCLR'] = fabric.launch(train_cifar100_rn18_ra_l_oclr)\n",
    "names.append(name)"
   ]
  },
  {
   "cell_type": "markdown",
   "metadata": {},
   "source": [
    "### R, OCLR"
   ]
  },
  {
   "cell_type": "code",
   "execution_count": 73,
   "metadata": {},
   "outputs": [],
   "source": [
    "def train_cifar100_rn18_r_oclr(fabric):\n",
    "    L.seed_everything(seed=0xcafe, workers=True, verbose=True)\n",
    "    batch_size = 32\n",
    "    epochs = 200\n",
    "    print_interval = 10\n",
    "\n",
    "    train_transform = transforms.Compose([\n",
    "        transforms.ToImage(),\n",
    "        transforms.RandomResizedCrop(size=32, antialias=True),\n",
    "        transforms.RandomHorizontalFlip(),\n",
    "        transforms.ToDtype(torch.float32, scale=True),\n",
    "        transforms.Normalize((0.5071, 0.4867, 0.4408), (0.2675, 0.2565, 0.2761)),\n",
    "    ])\n",
    "    train_ds = datasets.CIFAR100(\n",
    "        root='./image_recognition/data',\n",
    "        train=True,\n",
    "        transform=train_transform,\n",
    "        download=True,\n",
    "    )\n",
    "    train_loader = DataLoader(\n",
    "        train_ds,\n",
    "        batch_size=batch_size,\n",
    "        shuffle=True,\n",
    "        num_workers=4,\n",
    "        pin_memory=True,\n",
    "        drop_last=False,\n",
    "        persistent_workers=True,\n",
    "    )\n",
    "\n",
    "    n_data = len(train_ds)\n",
    "\n",
    "    net = resnet18(weights=None, num_classes=100)\n",
    "    optimizer = Ranger(\n",
    "        params=net.parameters(),\n",
    "        lr=1e-4,\n",
    "    )\n",
    "    scheduler = optim.lr_scheduler.OneCycleLR(\n",
    "        optimizer=optimizer,\n",
    "        max_lr=1e-3,\n",
    "        steps_per_epoch=len(train_loader),\n",
    "        epochs=epochs,\n",
    "    )\n",
    "    criterion = nn.CrossEntropyLoss()\n",
    "\n",
    "    model = torch.compile(net, mode='reduce-overhead')\n",
    "    model, optimizer = fabric.setup(model, optimizer)\n",
    "    loader = fabric.setup_dataloaders(train_loader)\n",
    "\n",
    "    model.train()\n",
    "    logs = defaultdict(list)\n",
    "    for epoch in tqdm(range(epochs)):\n",
    "        total_loss = 0\n",
    "        for x, y in loader:\n",
    "            optimizer.zero_grad()\n",
    "            out = model(x)\n",
    "            loss = criterion(out, y)\n",
    "            fabric.backward(loss)\n",
    "            optimizer.step()\n",
    "            scheduler.step()\n",
    "\n",
    "            total_loss += loss.item() * len(x)\n",
    "\n",
    "        total_loss = total_loss / n_data\n",
    "        logs['loss'].append(total_loss)\n",
    "\n",
    "        if epoch == 0 or (epoch + 1) % print_interval == 0:\n",
    "            print(f\"EPOCH: {epoch + 1}/{epochs}, LOSS: {total_loss:.5f}\")\n",
    "\n",
    "    torch.save(net.to('cpu').state_dict(), './image_recognition/weights/CIFAR100_RN18_R_OCLR.pth')\n",
    "    return dict(logs)"
   ]
  },
  {
   "cell_type": "code",
   "execution_count": 74,
   "metadata": {},
   "outputs": [
    {
     "name": "stderr",
     "output_type": "stream",
     "text": [
      "Using bfloat16 Automatic Mixed Precision (AMP)\n",
      "Seed set to 51966\n"
     ]
    },
    {
     "name": "stdout",
     "output_type": "stream",
     "text": [
      "Files already downloaded and verified\n",
      "Ranger optimizer loaded. \n",
      "Gradient Centralization usage = True\n",
      "GC applied to both conv and fc layers\n"
     ]
    },
    {
     "data": {
      "application/vnd.jupyter.widget-view+json": {
       "model_id": "68872ec0e9bb47178b6c54a17134feb4",
       "version_major": 2,
       "version_minor": 0
      },
      "text/plain": [
       "  0%|          | 0/200 [00:00<?, ?it/s]"
      ]
     },
     "metadata": {},
     "output_type": "display_data"
    },
    {
     "name": "stdout",
     "output_type": "stream",
     "text": [
      "EPOCH: 1/200, LOSS: 4.61148\n",
      "EPOCH: 10/200, LOSS: 3.27751\n",
      "EPOCH: 20/200, LOSS: 2.80230\n",
      "EPOCH: 30/200, LOSS: 2.51141\n",
      "EPOCH: 40/200, LOSS: 2.28023\n",
      "EPOCH: 50/200, LOSS: 2.09047\n",
      "EPOCH: 60/200, LOSS: 1.91028\n",
      "EPOCH: 70/200, LOSS: 1.73523\n",
      "EPOCH: 80/200, LOSS: 1.59715\n",
      "EPOCH: 90/200, LOSS: 1.47074\n",
      "EPOCH: 100/200, LOSS: 1.35260\n",
      "EPOCH: 110/200, LOSS: 1.25227\n",
      "EPOCH: 120/200, LOSS: 1.17357\n",
      "EPOCH: 130/200, LOSS: 1.09676\n",
      "EPOCH: 140/200, LOSS: 1.02439\n",
      "EPOCH: 150/200, LOSS: 0.95657\n",
      "EPOCH: 160/200, LOSS: 0.90801\n",
      "EPOCH: 170/200, LOSS: 0.86795\n",
      "EPOCH: 180/200, LOSS: 0.85669\n",
      "EPOCH: 190/200, LOSS: 0.82994\n",
      "EPOCH: 200/200, LOSS: 0.83637\n"
     ]
    }
   ],
   "source": [
    "fabric = L.Fabric(\n",
    "    accelerator='cuda',\n",
    "    devices=[0],\n",
    "    precision='bf16-mixed',\n",
    ")\n",
    "name = 'CIFAR100_RN18_R_OCLR'\n",
    "results['CIFAR100_RN18_R_OCLR'] = fabric.launch(train_cifar100_rn18_r_oclr)\n",
    "names.append(name)"
   ]
  },
  {
   "cell_type": "markdown",
   "metadata": {},
   "source": [
    "### SAM, OCLR"
   ]
  },
  {
   "cell_type": "code",
   "execution_count": 7,
   "metadata": {},
   "outputs": [],
   "source": [
    "def train_cifar100_rn18_sam_oclr(fabric):\n",
    "    L.seed_everything(seed=0xcafe, workers=True, verbose=True)\n",
    "    batch_size = 32\n",
    "    epochs = 200\n",
    "    print_interval = 10\n",
    "\n",
    "    train_transform = transforms.Compose([\n",
    "        transforms.ToImage(),\n",
    "        transforms.RandomResizedCrop(size=32, antialias=True),\n",
    "        transforms.RandomHorizontalFlip(),\n",
    "        transforms.ToDtype(torch.float32, scale=True),\n",
    "        transforms.Normalize((0.5071, 0.4867, 0.4408), (0.2675, 0.2565, 0.2761)),\n",
    "    ])\n",
    "    train_ds = datasets.CIFAR100(\n",
    "        root='./image_recognition/data',\n",
    "        train=True,\n",
    "        transform=train_transform,\n",
    "        download=True,\n",
    "    )\n",
    "    train_loader = DataLoader(\n",
    "        train_ds,\n",
    "        batch_size=batch_size,\n",
    "        shuffle=True,\n",
    "        num_workers=4,\n",
    "        pin_memory=True,\n",
    "        drop_last=False,\n",
    "        persistent_workers=True,\n",
    "    )\n",
    "\n",
    "    n_data = len(train_ds)\n",
    "\n",
    "    net = resnet18(weights=None, num_classes=100)\n",
    "    optimizer = SAM(\n",
    "        params=net.parameters(),\n",
    "        base_optimizer=optim.RAdam,\n",
    "        rho=0.05,\n",
    "        lr=1e-4,\n",
    "        weight_decay=5e-4,\n",
    "        decoupled_weight_decay=True,\n",
    "        foreach=True,\n",
    "    )\n",
    "    scheduler = optim.lr_scheduler.OneCycleLR(\n",
    "        optimizer=optimizer.base_optimizer,\n",
    "        max_lr=1e-3,\n",
    "        steps_per_epoch=len(train_loader),\n",
    "        epochs=epochs,\n",
    "    )\n",
    "    criterion = nn.CrossEntropyLoss()\n",
    "\n",
    "    # model = torch.compile(net, mode='reduce-overhead')\n",
    "    model = net\n",
    "    model, optimizer = fabric.setup(model, optimizer)\n",
    "    loader = fabric.setup_dataloaders(train_loader)\n",
    "\n",
    "    model.train()\n",
    "    logs = defaultdict(list)\n",
    "    for epoch in tqdm(range(epochs)):\n",
    "        total_loss = 0\n",
    "        for x, y in loader:\n",
    "            out = model(x)\n",
    "            loss = criterion(out, y)\n",
    "            fabric.backward(loss)\n",
    "            optimizer.first_step(zero_grad=True)\n",
    "            with bypass_running_stats(model):\n",
    "                fabric.backward(criterion(model(x), y).mean())\n",
    "                optimizer.second_step(zero_grad=True)\n",
    "            scheduler.step()\n",
    "\n",
    "            total_loss += loss.item() * len(x)\n",
    "\n",
    "        total_loss = total_loss / n_data\n",
    "        logs['loss'].append(total_loss)\n",
    "\n",
    "        if epoch == 0 or (epoch + 1) % print_interval == 0:\n",
    "            print(f\"EPOCH: {epoch + 1}/{epochs}, LOSS: {total_loss:.5f}\")\n",
    "\n",
    "    torch.save(net.to('cpu').state_dict(), './image_recognition/weights/CIFAR100_RN18_SAM_OCLR.pth')\n",
    "    return dict(logs)"
   ]
  },
  {
   "cell_type": "code",
   "execution_count": null,
   "metadata": {},
   "outputs": [],
   "source": [
    "fabric = L.Fabric(\n",
    "    accelerator='cuda',\n",
    "    devices=[0],\n",
    "    precision='bf16-mixed',\n",
    ")\n",
    "name = 'CIFAR100_RN18_SAM_OCLR'\n",
    "results['CIFAR100_RN18_SAM_OCLR'] = fabric.launch(train_cifar100_rn18_sam_oclr)\n",
    "names.append(name)"
   ]
  },
  {
   "cell_type": "markdown",
   "metadata": {},
   "source": [
    "## Eval"
   ]
  },
  {
   "cell_type": "code",
   "execution_count": 36,
   "metadata": {},
   "outputs": [],
   "source": [
    "def evaluate_phase(weight_name, device):\n",
    "    test_transform = transforms.Compose([\n",
    "        transforms.ToImage(),\n",
    "        transforms.ToDtype(torch.float32, scale=True),\n",
    "        transforms.Normalize((0.5071, 0.4867, 0.4408), (0.2675, 0.2565, 0.2761)),\n",
    "    ])\n",
    "    test_ds = datasets.CIFAR100(\n",
    "        root='./image_recognition/data',\n",
    "        train=False,\n",
    "        transform=test_transform,\n",
    "        download=False,\n",
    "    )\n",
    "    test_loader = DataLoader(\n",
    "        test_ds,\n",
    "        batch_size=256,\n",
    "        shuffle=False,\n",
    "        num_workers=4,\n",
    "        pin_memory=True,\n",
    "        drop_last=False,\n",
    "        persistent_workers=True,\n",
    "    )\n",
    "\n",
    "    net = resnet18(weights=None, num_classes=100).to(device)\n",
    "    net.load_state_dict(torch.load('./image_recognition/weights/' + weight_name, weights_only=True))\n",
    "\n",
    "    acc = evaluate(net, test_loader, device)\n",
    "    return acc"
   ]
  },
  {
   "cell_type": "code",
   "execution_count": 27,
   "metadata": {},
   "outputs": [
    {
     "name": "stdout",
     "output_type": "stream",
     "text": [
      "Files already downloaded and verified\n"
     ]
    }
   ],
   "source": [
    "test_ds = datasets.CIFAR100(\n",
    "    root='./image_recognition/data',\n",
    "    train=False,\n",
    "    download=True,\n",
    ")\n",
    "device = torch.device('cuda:0' if torch.cuda.is_available() else 'cpu')"
   ]
  },
  {
   "cell_type": "code",
   "execution_count": 75,
   "metadata": {},
   "outputs": [
    {
     "data": {
      "image/png": "[encoded data removed]",
      "text/plain": [
       "<Figure size 600x400 with 1 Axes>"
      ]
     },
     "metadata": {},
     "output_type": "display_data"
    }
   ],
   "source": [
    "fig, ax = plt.subplots(nrows=1, ncols=1, figsize=(6, 4))\n",
    "for name in names:\n",
    "    ax.plot(results[name]['loss'], label=name)\n",
    "ax.grid()\n",
    "ax.set_ylim((0.0, 4.0))\n",
    "ax.set_xlim((0, 200))\n",
    "fig.tight_layout()\n",
    "fig.legend()\n",
    "plt.show()"
   ]
  },
  {
   "cell_type": "code",
   "execution_count": 76,
   "metadata": {},
   "outputs": [
    {
     "name": "stdout",
     "output_type": "stream",
     "text": [
      "Acc: CIFAR100_RN18_RA_MSLR, 0.57660\n",
      "Acc: CIFAR100_RN18_RA_OCLR, 0.58010\n",
      "Acc: CIFAR100_RN18_RA_L_OCLR, 0.58190\n",
      "Acc: CIFAR100_RN18_RA_OCLR_LS, 0.58840\n",
      "Acc: CIFAR100_RN18_RA_OCLR_ACLS, 0.58310\n",
      "Acc: CIFAR100_RN18_RA_OCLR_ACLS, 0.58310\n",
      "Acc: CIFAR100_RN18_R_OCLR, 0.57980\n"
     ]
    }
   ],
   "source": [
    "for name in names:\n",
    "    if not ('acc' in results[name]):\n",
    "        results[name]['acc'] = evaluate_phase(name + '.pth', device=device)\n",
    "    print(f'Acc: {name}, {results[name]['acc']:.5f}')"
   ]
  },
  {
   "cell_type": "code",
   "execution_count": 77,
   "metadata": {},
   "outputs": [
    {
     "data": {
      "image/png": "[encoded data removed]",
      "text/plain": [
       "<Figure size 1200x300 with 1 Axes>"
      ]
     },
     "metadata": {},
     "output_type": "display_data"
    }
   ],
   "source": [
    "fig, ax = plt.subplots(nrows=1, ncols=1, figsize=(12, 3))\n",
    "for name in names:\n",
    "    ax.plot(name, results[name]['acc'], marker='o')\n",
    "ax.grid()\n",
    "ax.set_ylim((0.5, 1.0))\n",
    "plt.xticks(rotation=10)\n",
    "fig.tight_layout()\n",
    "plt.show()"
   ]
  }
 ],
 "metadata": {
  "kernelspec": {
   "display_name": "ipynotebook",
   "language": "python",
   "name": "python3"
  },
  "language_info": {
   "codemirror_mode": {
    "name": "ipython",
    "version": 3
   },
   "file_extension": ".py",
   "mimetype": "text/x-python",
   "name": "python",
   "nbconvert_exporter": "python",
   "pygments_lexer": "ipython3",
   "version": "3.12.7"
  }
 },
 "nbformat": 4,
 "nbformat_minor": 2
}
